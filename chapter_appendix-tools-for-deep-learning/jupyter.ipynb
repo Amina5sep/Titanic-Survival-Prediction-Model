{
  "cells": [
    {
      "cell_type": "markdown",
      "metadata": {
        "id": "view-in-github",
        "colab_type": "text"
      },
      "source": [
        "<a href=\"https://colab.research.google.com/github/Amina5sep/Titanic-Survival-Prediction-Model/blob/main/chapter_appendix-tools-for-deep-learning/jupyter.ipynb\" target=\"_parent\"><img src=\"https://colab.research.google.com/assets/colab-badge.svg\" alt=\"Open In Colab\"/></a>"
      ]
    },
    {
      "cell_type": "markdown",
      "source": [
        "# 🧭 Mini Case Study — *“Survival on the Titanic: An Exploratory Data Adventure”*\n",
        "\n",
        "---\n",
        "\n",
        "## 🎯 Objective\n",
        "Suppose you are working as a **Data Analyst** to investigate the historic **Titanic dataset**.  \n",
        "Your mission: explore, clean, and visualize the data to uncover **who was more likely to survive — and why**.  \n",
        "\n",
        "By the end of this case study, you will be able to:  \n",
        "- 🔍 Explore and describe the dataset  \n",
        "- 🧹 Handle missing values  \n",
        "- 📊 Analyze categorical and numerical variables  \n",
        "- 🎨 Visualize patterns and relationships  \n",
        "- 🧠 Interpret insights through storytelling  "
      ],
      "metadata": {
        "id": "ORgOQb1bYFiX"
      },
      "id": "ORgOQb1bYFiX"
    },
    {
      "cell_type": "code",
      "source": [
        "import seaborn as sns\n",
        "import pandas as pd\n",
        "import matplotlib.pyplot as plt\n",
        "\n",
        "# Load dataset\n",
        "titanic = sns.load_dataset(\"titanic\")\n",
        "titanic.head()"
      ],
      "metadata": {
        "id": "xo5JJlnKYBef",
        "outputId": "dc16657c-06d4-4869-8246-3e575f8c2831",
        "colab": {
          "base_uri": "https://localhost:8080/",
          "height": 226
        }
      },
      "id": "xo5JJlnKYBef",
      "execution_count": 25,
      "outputs": [
        {
          "output_type": "execute_result",
          "data": {
            "text/plain": [
              "   survived  pclass     sex   age  sibsp  parch     fare embarked  class  \\\n",
              "0         0       3    male  22.0      1      0   7.2500        S  Third   \n",
              "1         1       1  female  38.0      1      0  71.2833        C  First   \n",
              "2         1       3  female  26.0      0      0   7.9250        S  Third   \n",
              "3         1       1  female  35.0      1      0  53.1000        S  First   \n",
              "4         0       3    male  35.0      0      0   8.0500        S  Third   \n",
              "\n",
              "     who  adult_male deck  embark_town alive  alone  \n",
              "0    man        True  NaN  Southampton    no  False  \n",
              "1  woman       False    C    Cherbourg   yes  False  \n",
              "2  woman       False  NaN  Southampton   yes   True  \n",
              "3  woman       False    C  Southampton   yes  False  \n",
              "4    man        True  NaN  Southampton    no   True  "
            ],
            "text/html": [
              "\n",
              "  <div id=\"df-f0a12641-1b42-4214-b7d2-7b93190b8bf8\" class=\"colab-df-container\">\n",
              "    <div>\n",
              "<style scoped>\n",
              "    .dataframe tbody tr th:only-of-type {\n",
              "        vertical-align: middle;\n",
              "    }\n",
              "\n",
              "    .dataframe tbody tr th {\n",
              "        vertical-align: top;\n",
              "    }\n",
              "\n",
              "    .dataframe thead th {\n",
              "        text-align: right;\n",
              "    }\n",
              "</style>\n",
              "<table border=\"1\" class=\"dataframe\">\n",
              "  <thead>\n",
              "    <tr style=\"text-align: right;\">\n",
              "      <th></th>\n",
              "      <th>survived</th>\n",
              "      <th>pclass</th>\n",
              "      <th>sex</th>\n",
              "      <th>age</th>\n",
              "      <th>sibsp</th>\n",
              "      <th>parch</th>\n",
              "      <th>fare</th>\n",
              "      <th>embarked</th>\n",
              "      <th>class</th>\n",
              "      <th>who</th>\n",
              "      <th>adult_male</th>\n",
              "      <th>deck</th>\n",
              "      <th>embark_town</th>\n",
              "      <th>alive</th>\n",
              "      <th>alone</th>\n",
              "    </tr>\n",
              "  </thead>\n",
              "  <tbody>\n",
              "    <tr>\n",
              "      <th>0</th>\n",
              "      <td>0</td>\n",
              "      <td>3</td>\n",
              "      <td>male</td>\n",
              "      <td>22.0</td>\n",
              "      <td>1</td>\n",
              "      <td>0</td>\n",
              "      <td>7.2500</td>\n",
              "      <td>S</td>\n",
              "      <td>Third</td>\n",
              "      <td>man</td>\n",
              "      <td>True</td>\n",
              "      <td>NaN</td>\n",
              "      <td>Southampton</td>\n",
              "      <td>no</td>\n",
              "      <td>False</td>\n",
              "    </tr>\n",
              "    <tr>\n",
              "      <th>1</th>\n",
              "      <td>1</td>\n",
              "      <td>1</td>\n",
              "      <td>female</td>\n",
              "      <td>38.0</td>\n",
              "      <td>1</td>\n",
              "      <td>0</td>\n",
              "      <td>71.2833</td>\n",
              "      <td>C</td>\n",
              "      <td>First</td>\n",
              "      <td>woman</td>\n",
              "      <td>False</td>\n",
              "      <td>C</td>\n",
              "      <td>Cherbourg</td>\n",
              "      <td>yes</td>\n",
              "      <td>False</td>\n",
              "    </tr>\n",
              "    <tr>\n",
              "      <th>2</th>\n",
              "      <td>1</td>\n",
              "      <td>3</td>\n",
              "      <td>female</td>\n",
              "      <td>26.0</td>\n",
              "      <td>0</td>\n",
              "      <td>0</td>\n",
              "      <td>7.9250</td>\n",
              "      <td>S</td>\n",
              "      <td>Third</td>\n",
              "      <td>woman</td>\n",
              "      <td>False</td>\n",
              "      <td>NaN</td>\n",
              "      <td>Southampton</td>\n",
              "      <td>yes</td>\n",
              "      <td>True</td>\n",
              "    </tr>\n",
              "    <tr>\n",
              "      <th>3</th>\n",
              "      <td>1</td>\n",
              "      <td>1</td>\n",
              "      <td>female</td>\n",
              "      <td>35.0</td>\n",
              "      <td>1</td>\n",
              "      <td>0</td>\n",
              "      <td>53.1000</td>\n",
              "      <td>S</td>\n",
              "      <td>First</td>\n",
              "      <td>woman</td>\n",
              "      <td>False</td>\n",
              "      <td>C</td>\n",
              "      <td>Southampton</td>\n",
              "      <td>yes</td>\n",
              "      <td>False</td>\n",
              "    </tr>\n",
              "    <tr>\n",
              "      <th>4</th>\n",
              "      <td>0</td>\n",
              "      <td>3</td>\n",
              "      <td>male</td>\n",
              "      <td>35.0</td>\n",
              "      <td>0</td>\n",
              "      <td>0</td>\n",
              "      <td>8.0500</td>\n",
              "      <td>S</td>\n",
              "      <td>Third</td>\n",
              "      <td>man</td>\n",
              "      <td>True</td>\n",
              "      <td>NaN</td>\n",
              "      <td>Southampton</td>\n",
              "      <td>no</td>\n",
              "      <td>True</td>\n",
              "    </tr>\n",
              "  </tbody>\n",
              "</table>\n",
              "</div>\n",
              "    <div class=\"colab-df-buttons\">\n",
              "\n",
              "  <div class=\"colab-df-container\">\n",
              "    <button class=\"colab-df-convert\" onclick=\"convertToInteractive('df-f0a12641-1b42-4214-b7d2-7b93190b8bf8')\"\n",
              "            title=\"Convert this dataframe to an interactive table.\"\n",
              "            style=\"display:none;\">\n",
              "\n",
              "  <svg xmlns=\"http://www.w3.org/2000/svg\" height=\"24px\" viewBox=\"0 -960 960 960\">\n",
              "    <path d=\"M120-120v-720h720v720H120Zm60-500h600v-160H180v160Zm220 220h160v-160H400v160Zm0 220h160v-160H400v160ZM180-400h160v-160H180v160Zm440 0h160v-160H620v160ZM180-180h160v-160H180v160Zm440 0h160v-160H620v160Z\"/>\n",
              "  </svg>\n",
              "    </button>\n",
              "\n",
              "  <style>\n",
              "    .colab-df-container {\n",
              "      display:flex;\n",
              "      gap: 12px;\n",
              "    }\n",
              "\n",
              "    .colab-df-convert {\n",
              "      background-color: #E8F0FE;\n",
              "      border: none;\n",
              "      border-radius: 50%;\n",
              "      cursor: pointer;\n",
              "      display: none;\n",
              "      fill: #1967D2;\n",
              "      height: 32px;\n",
              "      padding: 0 0 0 0;\n",
              "      width: 32px;\n",
              "    }\n",
              "\n",
              "    .colab-df-convert:hover {\n",
              "      background-color: #E2EBFA;\n",
              "      box-shadow: 0px 1px 2px rgba(60, 64, 67, 0.3), 0px 1px 3px 1px rgba(60, 64, 67, 0.15);\n",
              "      fill: #174EA6;\n",
              "    }\n",
              "\n",
              "    .colab-df-buttons div {\n",
              "      margin-bottom: 4px;\n",
              "    }\n",
              "\n",
              "    [theme=dark] .colab-df-convert {\n",
              "      background-color: #3B4455;\n",
              "      fill: #D2E3FC;\n",
              "    }\n",
              "\n",
              "    [theme=dark] .colab-df-convert:hover {\n",
              "      background-color: #434B5C;\n",
              "      box-shadow: 0px 1px 3px 1px rgba(0, 0, 0, 0.15);\n",
              "      filter: drop-shadow(0px 1px 2px rgba(0, 0, 0, 0.3));\n",
              "      fill: #FFFFFF;\n",
              "    }\n",
              "  </style>\n",
              "\n",
              "    <script>\n",
              "      const buttonEl =\n",
              "        document.querySelector('#df-f0a12641-1b42-4214-b7d2-7b93190b8bf8 button.colab-df-convert');\n",
              "      buttonEl.style.display =\n",
              "        google.colab.kernel.accessAllowed ? 'block' : 'none';\n",
              "\n",
              "      async function convertToInteractive(key) {\n",
              "        const element = document.querySelector('#df-f0a12641-1b42-4214-b7d2-7b93190b8bf8');\n",
              "        const dataTable =\n",
              "          await google.colab.kernel.invokeFunction('convertToInteractive',\n",
              "                                                    [key], {});\n",
              "        if (!dataTable) return;\n",
              "\n",
              "        const docLinkHtml = 'Like what you see? Visit the ' +\n",
              "          '<a target=\"_blank\" href=https://colab.research.google.com/notebooks/data_table.ipynb>data table notebook</a>'\n",
              "          + ' to learn more about interactive tables.';\n",
              "        element.innerHTML = '';\n",
              "        dataTable['output_type'] = 'display_data';\n",
              "        await google.colab.output.renderOutput(dataTable, element);\n",
              "        const docLink = document.createElement('div');\n",
              "        docLink.innerHTML = docLinkHtml;\n",
              "        element.appendChild(docLink);\n",
              "      }\n",
              "    </script>\n",
              "  </div>\n",
              "\n",
              "\n",
              "    <div id=\"df-2aec1177-cb89-488d-9171-e91dff47099f\">\n",
              "      <button class=\"colab-df-quickchart\" onclick=\"quickchart('df-2aec1177-cb89-488d-9171-e91dff47099f')\"\n",
              "                title=\"Suggest charts\"\n",
              "                style=\"display:none;\">\n",
              "\n",
              "<svg xmlns=\"http://www.w3.org/2000/svg\" height=\"24px\"viewBox=\"0 0 24 24\"\n",
              "     width=\"24px\">\n",
              "    <g>\n",
              "        <path d=\"M19 3H5c-1.1 0-2 .9-2 2v14c0 1.1.9 2 2 2h14c1.1 0 2-.9 2-2V5c0-1.1-.9-2-2-2zM9 17H7v-7h2v7zm4 0h-2V7h2v10zm4 0h-2v-4h2v4z\"/>\n",
              "    </g>\n",
              "</svg>\n",
              "      </button>\n",
              "\n",
              "<style>\n",
              "  .colab-df-quickchart {\n",
              "      --bg-color: #E8F0FE;\n",
              "      --fill-color: #1967D2;\n",
              "      --hover-bg-color: #E2EBFA;\n",
              "      --hover-fill-color: #174EA6;\n",
              "      --disabled-fill-color: #AAA;\n",
              "      --disabled-bg-color: #DDD;\n",
              "  }\n",
              "\n",
              "  [theme=dark] .colab-df-quickchart {\n",
              "      --bg-color: #3B4455;\n",
              "      --fill-color: #D2E3FC;\n",
              "      --hover-bg-color: #434B5C;\n",
              "      --hover-fill-color: #FFFFFF;\n",
              "      --disabled-bg-color: #3B4455;\n",
              "      --disabled-fill-color: #666;\n",
              "  }\n",
              "\n",
              "  .colab-df-quickchart {\n",
              "    background-color: var(--bg-color);\n",
              "    border: none;\n",
              "    border-radius: 50%;\n",
              "    cursor: pointer;\n",
              "    display: none;\n",
              "    fill: var(--fill-color);\n",
              "    height: 32px;\n",
              "    padding: 0;\n",
              "    width: 32px;\n",
              "  }\n",
              "\n",
              "  .colab-df-quickchart:hover {\n",
              "    background-color: var(--hover-bg-color);\n",
              "    box-shadow: 0 1px 2px rgba(60, 64, 67, 0.3), 0 1px 3px 1px rgba(60, 64, 67, 0.15);\n",
              "    fill: var(--button-hover-fill-color);\n",
              "  }\n",
              "\n",
              "  .colab-df-quickchart-complete:disabled,\n",
              "  .colab-df-quickchart-complete:disabled:hover {\n",
              "    background-color: var(--disabled-bg-color);\n",
              "    fill: var(--disabled-fill-color);\n",
              "    box-shadow: none;\n",
              "  }\n",
              "\n",
              "  .colab-df-spinner {\n",
              "    border: 2px solid var(--fill-color);\n",
              "    border-color: transparent;\n",
              "    border-bottom-color: var(--fill-color);\n",
              "    animation:\n",
              "      spin 1s steps(1) infinite;\n",
              "  }\n",
              "\n",
              "  @keyframes spin {\n",
              "    0% {\n",
              "      border-color: transparent;\n",
              "      border-bottom-color: var(--fill-color);\n",
              "      border-left-color: var(--fill-color);\n",
              "    }\n",
              "    20% {\n",
              "      border-color: transparent;\n",
              "      border-left-color: var(--fill-color);\n",
              "      border-top-color: var(--fill-color);\n",
              "    }\n",
              "    30% {\n",
              "      border-color: transparent;\n",
              "      border-left-color: var(--fill-color);\n",
              "      border-top-color: var(--fill-color);\n",
              "      border-right-color: var(--fill-color);\n",
              "    }\n",
              "    40% {\n",
              "      border-color: transparent;\n",
              "      border-right-color: var(--fill-color);\n",
              "      border-top-color: var(--fill-color);\n",
              "    }\n",
              "    60% {\n",
              "      border-color: transparent;\n",
              "      border-right-color: var(--fill-color);\n",
              "    }\n",
              "    80% {\n",
              "      border-color: transparent;\n",
              "      border-right-color: var(--fill-color);\n",
              "      border-bottom-color: var(--fill-color);\n",
              "    }\n",
              "    90% {\n",
              "      border-color: transparent;\n",
              "      border-bottom-color: var(--fill-color);\n",
              "    }\n",
              "  }\n",
              "</style>\n",
              "\n",
              "      <script>\n",
              "        async function quickchart(key) {\n",
              "          const quickchartButtonEl =\n",
              "            document.querySelector('#' + key + ' button');\n",
              "          quickchartButtonEl.disabled = true;  // To prevent multiple clicks.\n",
              "          quickchartButtonEl.classList.add('colab-df-spinner');\n",
              "          try {\n",
              "            const charts = await google.colab.kernel.invokeFunction(\n",
              "                'suggestCharts', [key], {});\n",
              "          } catch (error) {\n",
              "            console.error('Error during call to suggestCharts:', error);\n",
              "          }\n",
              "          quickchartButtonEl.classList.remove('colab-df-spinner');\n",
              "          quickchartButtonEl.classList.add('colab-df-quickchart-complete');\n",
              "        }\n",
              "        (() => {\n",
              "          let quickchartButtonEl =\n",
              "            document.querySelector('#df-2aec1177-cb89-488d-9171-e91dff47099f button');\n",
              "          quickchartButtonEl.style.display =\n",
              "            google.colab.kernel.accessAllowed ? 'block' : 'none';\n",
              "        })();\n",
              "      </script>\n",
              "    </div>\n",
              "\n",
              "    </div>\n",
              "  </div>\n"
            ],
            "application/vnd.google.colaboratory.intrinsic+json": {
              "type": "dataframe",
              "variable_name": "titanic",
              "summary": "{\n  \"name\": \"titanic\",\n  \"rows\": 891,\n  \"fields\": [\n    {\n      \"column\": \"survived\",\n      \"properties\": {\n        \"dtype\": \"number\",\n        \"std\": 0,\n        \"min\": 0,\n        \"max\": 1,\n        \"num_unique_values\": 2,\n        \"samples\": [\n          1,\n          0\n        ],\n        \"semantic_type\": \"\",\n        \"description\": \"\"\n      }\n    },\n    {\n      \"column\": \"pclass\",\n      \"properties\": {\n        \"dtype\": \"number\",\n        \"std\": 0,\n        \"min\": 1,\n        \"max\": 3,\n        \"num_unique_values\": 3,\n        \"samples\": [\n          3,\n          1\n        ],\n        \"semantic_type\": \"\",\n        \"description\": \"\"\n      }\n    },\n    {\n      \"column\": \"sex\",\n      \"properties\": {\n        \"dtype\": \"category\",\n        \"num_unique_values\": 2,\n        \"samples\": [\n          \"female\",\n          \"male\"\n        ],\n        \"semantic_type\": \"\",\n        \"description\": \"\"\n      }\n    },\n    {\n      \"column\": \"age\",\n      \"properties\": {\n        \"dtype\": \"number\",\n        \"std\": 14.526497332334044,\n        \"min\": 0.42,\n        \"max\": 80.0,\n        \"num_unique_values\": 88,\n        \"samples\": [\n          0.75,\n          22.0\n        ],\n        \"semantic_type\": \"\",\n        \"description\": \"\"\n      }\n    },\n    {\n      \"column\": \"sibsp\",\n      \"properties\": {\n        \"dtype\": \"number\",\n        \"std\": 1,\n        \"min\": 0,\n        \"max\": 8,\n        \"num_unique_values\": 7,\n        \"samples\": [\n          1,\n          0\n        ],\n        \"semantic_type\": \"\",\n        \"description\": \"\"\n      }\n    },\n    {\n      \"column\": \"parch\",\n      \"properties\": {\n        \"dtype\": \"number\",\n        \"std\": 0,\n        \"min\": 0,\n        \"max\": 6,\n        \"num_unique_values\": 7,\n        \"samples\": [\n          0,\n          1\n        ],\n        \"semantic_type\": \"\",\n        \"description\": \"\"\n      }\n    },\n    {\n      \"column\": \"fare\",\n      \"properties\": {\n        \"dtype\": \"number\",\n        \"std\": 49.693428597180905,\n        \"min\": 0.0,\n        \"max\": 512.3292,\n        \"num_unique_values\": 248,\n        \"samples\": [\n          11.2417,\n          51.8625\n        ],\n        \"semantic_type\": \"\",\n        \"description\": \"\"\n      }\n    },\n    {\n      \"column\": \"embarked\",\n      \"properties\": {\n        \"dtype\": \"category\",\n        \"num_unique_values\": 3,\n        \"samples\": [\n          \"S\",\n          \"C\"\n        ],\n        \"semantic_type\": \"\",\n        \"description\": \"\"\n      }\n    },\n    {\n      \"column\": \"class\",\n      \"properties\": {\n        \"dtype\": \"category\",\n        \"num_unique_values\": 3,\n        \"samples\": [\n          \"Third\",\n          \"First\"\n        ],\n        \"semantic_type\": \"\",\n        \"description\": \"\"\n      }\n    },\n    {\n      \"column\": \"who\",\n      \"properties\": {\n        \"dtype\": \"category\",\n        \"num_unique_values\": 3,\n        \"samples\": [\n          \"man\",\n          \"woman\"\n        ],\n        \"semantic_type\": \"\",\n        \"description\": \"\"\n      }\n    },\n    {\n      \"column\": \"adult_male\",\n      \"properties\": {\n        \"dtype\": \"boolean\",\n        \"num_unique_values\": 2,\n        \"samples\": [\n          false,\n          true\n        ],\n        \"semantic_type\": \"\",\n        \"description\": \"\"\n      }\n    },\n    {\n      \"column\": \"deck\",\n      \"properties\": {\n        \"dtype\": \"category\",\n        \"num_unique_values\": 7,\n        \"samples\": [\n          \"C\",\n          \"E\"\n        ],\n        \"semantic_type\": \"\",\n        \"description\": \"\"\n      }\n    },\n    {\n      \"column\": \"embark_town\",\n      \"properties\": {\n        \"dtype\": \"category\",\n        \"num_unique_values\": 3,\n        \"samples\": [\n          \"Southampton\",\n          \"Cherbourg\"\n        ],\n        \"semantic_type\": \"\",\n        \"description\": \"\"\n      }\n    },\n    {\n      \"column\": \"alive\",\n      \"properties\": {\n        \"dtype\": \"category\",\n        \"num_unique_values\": 2,\n        \"samples\": [\n          \"yes\",\n          \"no\"\n        ],\n        \"semantic_type\": \"\",\n        \"description\": \"\"\n      }\n    },\n    {\n      \"column\": \"alone\",\n      \"properties\": {\n        \"dtype\": \"boolean\",\n        \"num_unique_values\": 2,\n        \"samples\": [\n          true,\n          false\n        ],\n        \"semantic_type\": \"\",\n        \"description\": \"\"\n      }\n    }\n  ]\n}"
            }
          },
          "metadata": {},
          "execution_count": 25
        }
      ]
    },
    {
      "cell_type": "markdown",
      "source": [
        "## 🚢 **Section A — Getting to Know the Ship’s Passengers**\n",
        "\n",
        "Before diving deep, let’s understand **who boarded the Titanic** and what kind of information we have in the dataset.\n",
        "\n",
        "---\n",
        "\n",
        "### 🧩 Tasks\n",
        "\n",
        "1. Display the **first five rows** of the dataset.  \n",
        "2. Check the **total number of passengers** and **columns**.  \n",
        "3. Use `.info()` and `.describe()` to summarize **data types** and **numeric statistics**.  \n",
        "4. Identify columns with **missing values** — which features might need cleaning?  \n",
        "\n",
        "---\n",
        "\n",
        "### 🧾 Observation Summary\n",
        "\n",
        "After completing the above tasks, **write a short summary (3–4 lines)** discussing your initial understanding of the dataset:  \n",
        "\n",
        "- How many passengers and features are present?  \n",
        "- What types of variables (categorical, numerical) do you notice?  \n",
        "- Are there any missing or incomplete values?  \n",
        "- What does your first impression of the data tell you about the passengers?\n",
        "\n",
        "\n"
      ],
      "metadata": {
        "id": "8LlFc8PIbQVn"
      },
      "id": "8LlFc8PIbQVn"
    },
    {
      "cell_type": "code",
      "source": [
        "titanic.head(5)"
      ],
      "metadata": {
        "id": "VRUVIn7VbZao"
      },
      "id": "VRUVIn7VbZao",
      "execution_count": null,
      "outputs": []
    },
    {
      "cell_type": "code",
      "source": [
        "titanic.count()"
      ],
      "metadata": {
        "id": "1bZkPNbUdYG1"
      },
      "id": "1bZkPNbUdYG1",
      "execution_count": null,
      "outputs": []
    },
    {
      "cell_type": "code",
      "source": [
        "titanic.info()"
      ],
      "metadata": {
        "id": "PGk0NhxqdcPL"
      },
      "id": "PGk0NhxqdcPL",
      "execution_count": null,
      "outputs": []
    },
    {
      "cell_type": "code",
      "source": [
        "titanic.describe()"
      ],
      "metadata": {
        "id": "E_Z0Qt0Ydf08"
      },
      "id": "E_Z0Qt0Ydf08",
      "execution_count": null,
      "outputs": []
    },
    {
      "cell_type": "code",
      "source": [
        "titanic.isnull().sum()"
      ],
      "metadata": {
        "id": "hYxOdrIadi59"
      },
      "id": "hYxOdrIadi59",
      "execution_count": null,
      "outputs": []
    },
    {
      "cell_type": "markdown",
      "source": [
        "The Titanic dataset contains 891 passengers and 12 features.\n",
        "It includes both numerical variables (like Age, Fare, SibSp, Parch) and categorical variables (like Sex, Embarked, Pclass).\n",
        "Some features — especially Age, Cabin, and Embarked — have missing values that need cleaning.\n",
        "Overall, the data provides a mix of demographic, social, and ticket-related information that can help us understand which passengers were more likely to survive."
      ],
      "metadata": {
        "id": "P9ovOAPKez3x"
      },
      "id": "P9ovOAPKez3x"
    },
    {
      "cell_type": "markdown",
      "source": [
        "## 💾 **Section B — Fixing the Passenger Log**\n",
        "\n",
        "Some parts of the passenger log were **damaged during the disaster**.  \n",
        "Your task is to **handle missing values** to ensure data accuracy before moving ahead with the analysis.\n",
        "\n",
        "---\n",
        "\n",
        "### 🧩 Tasks\n",
        "\n",
        "1. Count **missing values** in each column.  \n",
        "2. Replace missing `age` values with the **mean age**.  \n",
        "3. Fill missing `embarked` entries with the **most frequent port** (*mode*).  \n",
        "4. Drop the `deck` column if it has **too many missing entries**.  \n",
        "5. Write one line explaining **why handling missing data** is important before analysis.  \n",
        "\n",
        "---\n",
        "\n",
        "### 🧾 Observation Summary\n",
        "\n",
        "After completing the above tasks, **write a short summary (3–4 lines)** describing what you observed and learned:  \n",
        "\n",
        "- Which columns had missing values?  \n",
        "- What strategies did you use to fill or remove them?  \n",
        "- How did handling missing data change the completeness of your dataset?  \n",
        "- Why is data cleaning an essential step in EDA?\n"
      ],
      "metadata": {
        "id": "dvPxDrnueiRh"
      },
      "id": "dvPxDrnueiRh"
    },
    {
      "cell_type": "code",
      "source": [
        "mean_age = titanic['age'].mean()\n",
        "titanic['age'] = titanic['age'].fillna(mean_age)"
      ],
      "metadata": {
        "id": "U2z_20kqeO1m"
      },
      "id": "U2z_20kqeO1m",
      "execution_count": null,
      "outputs": []
    },
    {
      "cell_type": "code",
      "source": [
        "mode_embarked = titanic['embarked'].mode()[0]\n",
        "titanic['embarked'] = titanic['embarked'].fillna(mode_embarked)"
      ],
      "metadata": {
        "id": "BLjD-Ylbep2C"
      },
      "id": "BLjD-Ylbep2C",
      "execution_count": null,
      "outputs": []
    },
    {
      "cell_type": "code",
      "source": [
        "if titanic['deck'].isnull().mean() > 0.5:\n",
        "    titanic.drop(columns=['deck'], inplace=True)"
      ],
      "metadata": {
        "id": "DqPdZJz6frYo"
      },
      "id": "DqPdZJz6frYo",
      "execution_count": null,
      "outputs": []
    },
    {
      "cell_type": "code",
      "source": [
        "print(\"\\n Missing values after cleaning:\")\n",
        "print(titanic.isnull().sum())"
      ],
      "metadata": {
        "id": "UuzsG9OYfug4"
      },
      "id": "UuzsG9OYfug4",
      "execution_count": null,
      "outputs": []
    },
    {
      "cell_type": "markdown",
      "source": [
        "Handling missing data ensures accurate, unbiased results for analysis and modeling."
      ],
      "metadata": {
        "id": "sStuuHQRf-Jh"
      },
      "id": "sStuuHQRf-Jh"
    },
    {
      "cell_type": "markdown",
      "source": [
        "## 👩‍👦 **Section C — Who Were Onboard?**\n",
        "\n",
        "Let’s explore the **demographics — class, gender, and age** — to understand who boarded the Titanic.  \n",
        "This section will help us identify how passengers were distributed across different classes and age groups.\n",
        "\n",
        "---\n",
        "\n",
        "### 🧩 Tasks\n",
        "\n",
        "- Identify which **class** had the most and fewest passengers.  \n",
        "- Explore what **age group** (children, young adults, or older adults) appears most frequently.  \n",
        "- Think about why there might be **more passengers in one class** than another.  \n",
        "\n",
        "---\n",
        "\n",
        "### 💡 Hint: Use the following code\n",
        "```python\n",
        "# Visualization: Passenger class distribution\n",
        "sns.countplot(data=titanic, x='class', palette='pastel')\n",
        "plt.title(\"Passenger Class Distribution\")\n",
        "plt.xlabel(\"Passenger Class\")\n",
        "plt.ylabel(\"Count\")\n",
        "plt.show()\n",
        "\n",
        "# Age distribution of passengers\n",
        "sns.histplot(titanic['age'], bins=30, kde=True, color='skyblue')\n",
        "plt.title(\"Distribution of Passenger Ages\")\n",
        "plt.xlabel(\"Age\")\n",
        "plt.ylabel(\"Count\")\n",
        "plt.show()\n",
        "\n",
        "\n",
        "🧾 **Observation Summary**\n",
        "\n",
        "After completing the above tasks, write a short summary (3–4 lines) describing your observations:\n",
        "\n",
        "- Which passenger class had the highest and lowest counts?\n",
        "\n",
        "- What does the age distribution tell you about who was on board?\n",
        "\n",
        "- Do you notice any interesting trends between class and age?"
      ],
      "metadata": {
        "id": "f4hI6EUlg2Tq"
      },
      "id": "f4hI6EUlg2Tq"
    },
    {
      "cell_type": "code",
      "source": [
        "# 1 Passenger Class Distribution\n",
        "sns.countplot(data=titanic, x='class', palette='pastel')\n",
        "plt.title(\"Passenger Class Distribution\")\n",
        "plt.xlabel(\"Passenger Class\")\n",
        "plt.ylabel(\"Count\")\n",
        "plt.show()"
      ],
      "metadata": {
        "id": "omILsanSgV4k"
      },
      "id": "omILsanSgV4k",
      "execution_count": null,
      "outputs": []
    },
    {
      "cell_type": "code",
      "source": [
        "# 2 Age Distribution\n",
        "sns.histplot(titanic['age'], bins=30, kde=True, color='skyblue')\n",
        "plt.title(\"Distribution of Passenger Ages\")\n",
        "plt.xlabel(\"Age\")\n",
        "plt.ylabel(\"Count\")\n",
        "plt.show()"
      ],
      "metadata": {
        "id": "leojje7rgY3H"
      },
      "id": "leojje7rgY3H",
      "execution_count": null,
      "outputs": []
    },
    {
      "cell_type": "code",
      "source": [
        "# 3 Optional: Combine both insights\n",
        "sns.boxplot(data=titanic, x='class', y='age', palette='Set2')\n",
        "plt.title(\"Age Distribution Across Passenger Classes\")\n",
        "plt.xlabel(\"Passenger Class\")\n",
        "plt.ylabel(\"Age\")\n",
        "plt.show()\n"
      ],
      "metadata": {
        "id": "zaFXy9prgdXI"
      },
      "id": "zaFXy9prgdXI",
      "execution_count": null,
      "outputs": []
    },
    {
      "cell_type": "markdown",
      "source": [
        "Most passengers traveled in Third Class, while First Class had the fewest passengers.\n",
        "The age distribution shows that the majority of passengers were young adults (around 20–35 years old), with fewer children and elderly people.\n",
        "The First Class passengers tended to be slightly older on average than those in Third Class, possibly reflecting socio-economic differences — wealthier, older travelers could afford higher-class tickets."
      ],
      "metadata": {
        "id": "f1mSUiHvgm7u"
      },
      "id": "f1mSUiHvgm7u"
    },
    {
      "cell_type": "markdown",
      "source": [
        "## 💰 Section D — Exploring Passenger Wealth\n",
        "\n",
        "The Titanic had passengers from all walks of life.  \n",
        "Let’s explore how **ticket prices (fares)** varied among different passenger classes and genders.\n",
        "\n",
        "---\n",
        "\n",
        "### 💡 Hint: Use the following code\n",
        "```python\n",
        "# Visualize fare distribution across classes\n",
        "sns.boxplot(data=titanic, x='class', y='fare', palette='Set2')\n",
        "plt.title(\"Fare Distribution by Class\")\n",
        "plt.show()\n",
        "\n",
        "# Compare fares by class and gender\n",
        "sns.boxplot(data=titanic, x='class', y='fare', hue='sex', palette='coolwarm')\n",
        "plt.title(\"Fare by Class and Gender\")\n",
        "plt.show()\n",
        "\n",
        "🧩 **Questions**\n",
        "\n",
        "- Which passenger class paid the highest fares?\n",
        "\n",
        "- Do you observe any outliers (unusually high fares)?\n",
        "\n",
        "- What differences do you notice between male and female fares?\n",
        "\n",
        "- What might explain these differences (e.g., class, cabin type, group size)?"
      ],
      "metadata": {
        "id": "BiwEsTI1g95j"
      },
      "id": "BiwEsTI1g95j"
    },
    {
      "cell_type": "code",
      "source": [
        "# 1 Visualize fare distribution across classes\n",
        "sns.boxplot(data=titanic, x='class', y='fare', palette='Set2')\n",
        "plt.title(\"Fare Distribution by Class\")\n",
        "plt.xlabel(\"Passenger Class\")\n",
        "plt.ylabel(\"Fare\")\n",
        "plt.show()"
      ],
      "metadata": {
        "id": "mzL1CyZRgh3W"
      },
      "id": "mzL1CyZRgh3W",
      "execution_count": null,
      "outputs": []
    },
    {
      "cell_type": "code",
      "source": [
        "# 2 Compare fares by class and gender\n",
        "sns.boxplot(data=titanic, x='class', y='fare', hue='sex', palette='coolwarm')\n",
        "plt.title(\"Fare by Class and Gender\")\n",
        "plt.xlabel(\"Passenger Class\")\n",
        "plt.ylabel(\"Fare\")\n",
        "plt.show()"
      ],
      "metadata": {
        "id": "UE6BoUbXiWji"
      },
      "id": "UE6BoUbXiWji",
      "execution_count": null,
      "outputs": []
    },
    {
      "cell_type": "markdown",
      "source": [
        "Which passenger class paid the highest fares?\n",
        "\n",
        "➤ First Class passengers paid the highest fares, while Third Class paid the least.\n",
        "\n",
        "Do you observe any outliers (unusually high fares)?\n",
        "\n",
        "➤ Yes — several outliers appear in the First Class boxplot, representing passengers who paid very expensive fares, possibly for private cabins or luxury suites.\n",
        "\n",
        "What differences do you notice between male and female fares?\n",
        "\n",
        "➤ Within each class, female passengers often show slightly higher median fares than males, especially in First Class.\n",
        "\n",
        "What might explain these differences?\n",
        "\n",
        "➤ The differences likely stem from ticket type, cabin location, or group/family bookings. Wealthier families and women traveling with companions might have purchased better accommodations or shared expensive cabins, increasing the average fare."
      ],
      "metadata": {
        "id": "VKU3S2MGimdl"
      },
      "id": "VKU3S2MGimdl"
    },
    {
      "cell_type": "markdown",
      "source": [
        "## 🧍‍♀️ **Section E — The Fate of the Passengers**\n",
        "\n",
        "Suppose you are working as a **Data Analyst** to investigate the historic **Titanic dataset**.  \n",
        "Your mission: explore, clean, and visualize the data to uncover **who was more likely to survive — and why**.  \n",
        "\n",
        "By the end of this section, you will be able to:  \n",
        "- Analyze **survival rates** based on gender and class.  \n",
        "- Visualize **patterns of survival** using count and bar plots.  \n",
        "- Interpret the findings in a **storytelling format** that reflects real-world insights.\n",
        "\n",
        "---\n",
        "\n",
        "### 💡 Hint: Use the following code\n",
        "\n",
        "# Survival count by gender\n",
        "sns.countplot(data=titanic, x='sex', hue='survived', palette='coolwarm')\n",
        "plt.title(\"Survival by Gender\")\n",
        "plt.xlabel(\"Gender\")\n",
        "plt.ylabel(\"Count\")\n",
        "plt.legend(title=\"Survived\", labels=[\"No\", \"Yes\"])\n",
        "plt.show()\n",
        "\n",
        "# Cross-tabulation of class and survival (percentage within each class)\n",
        "pd.crosstab(titanic['class'], titanic['survived'], normalize='index') * 100\n",
        "\n",
        "# Grouped bar chart: Survival by class and gender\n",
        "sns.barplot(data=titanic, x='class', y='survived', hue='sex', palette='viridis')\n",
        "plt.title(\"Survival Rate by Class and Gender\")\n",
        "plt.ylabel(\"Survival Rate\")\n",
        "plt.show()\n",
        "\n",
        "\n",
        "### **Questions**\n",
        "\n",
        "- Which **gender** had a higher survival rate?  \n",
        "- Which **class** had the lowest chance of survival?  \n",
        "- How do **class and gender together** affect survival chances?  \n",
        "- What might explain these trends **historically or socially** (e.g., “Women and children first” policy)?  \n",
        "\n",
        "---\n",
        "\n",
        "### 🧾 **Observation Summary**\n",
        "\n",
        "After answering the above questions, **write a short summary (3–4 lines)** discussing your findings:  \n",
        "\n",
        "- How does survival differ by **gender**?  \n",
        "- How does survival differ by **class**?  \n",
        "- What **social or historical factors** might explain these patterns?"
      ],
      "metadata": {
        "id": "R9P1pFs2i44z"
      },
      "id": "R9P1pFs2i44z"
    },
    {
      "cell_type": "code",
      "source": [
        "# 1 Survival count by gender\n",
        "sns.countplot(data=titanic, x='sex', hue='survived', palette='coolwarm')\n",
        "plt.title(\"Survival by Gender\")\n",
        "plt.xlabel(\"Gender\")\n",
        "plt.ylabel(\"Count\")\n",
        "plt.legend(title=\"Survived\", labels=[\"No\", \"Yes\"])\n",
        "plt.show()\n"
      ],
      "metadata": {
        "id": "rEx05ERwicUH"
      },
      "id": "rEx05ERwicUH",
      "execution_count": null,
      "outputs": []
    },
    {
      "cell_type": "code",
      "source": [
        "# 2 Cross-tabulation of class and survival (in %)\n",
        "survival_by_class = pd.crosstab(titanic['class'], titanic['survived'], normalize='index') * 100\n",
        "print(\" Survival Percentage by Class:\\n\")\n",
        "print(survival_by_class.round(2))"
      ],
      "metadata": {
        "id": "fG8uuNGdjALZ"
      },
      "id": "fG8uuNGdjALZ",
      "execution_count": null,
      "outputs": []
    },
    {
      "cell_type": "code",
      "source": [
        "# 3 Grouped bar chart: Survival by class and gender\n",
        "sns.barplot(data=titanic, x='class', y='survived', hue='sex', palette='viridis')\n",
        "plt.title(\"Survival Rate by Class and Gender\")\n",
        "plt.xlabel(\"Passenger Class\")\n",
        "plt.ylabel(\"Survival Rate\")\n",
        "plt.show()"
      ],
      "metadata": {
        "id": "3682WNZPjFIK"
      },
      "id": "3682WNZPjFIK",
      "execution_count": null,
      "outputs": []
    },
    {
      "cell_type": "markdown",
      "source": [
        "Q.Which gender had a higher survival rate?\n",
        "\n",
        "➤ Females had a much higher survival rate than males.\n",
        "\n",
        "Q.Which class had the lowest chance of survival?\n",
        "\n",
        "➤ Third Class passengers had the lowest survival rate, while First Class had the highest.\n",
        "\n",
        "Q.How do class and gender together affect survival chances?\n",
        "\n",
        "➤ First Class women had the best chance of survival, while Third Class men had the worst.\n",
        "\n",
        "Q.What might explain these trends historically or socially?\n",
        "\n",
        "➤ The difference reflects the “Women and children first” policy followed during the disaster and the fact that wealthier passengers (First Class) had easier access to lifeboats due to their cabin proximity and crew assistance."
      ],
      "metadata": {
        "id": "8vfpdsLgjSas"
      },
      "id": "8vfpdsLgjSas"
    },
    {
      "cell_type": "markdown",
      "source": [
        "Observation Summary\n",
        "\n",
        "The analysis shows that women were far more likely to survive than men, confirming the “Women and children first” evacuation rule.\n",
        "Survival rates were also highest in First Class and lowest in Third Class, highlighting the impact of social status and cabin location on safety.\n",
        "Combining both factors, First Class females had the greatest survival advantage.\n",
        "These trends clearly reveal how gender and socio-economic class influenced survival outcomes during the Titanic disaster."
      ],
      "metadata": {
        "id": "hBCUz3bujdlU"
      },
      "id": "hBCUz3bujdlU"
    },
    {
      "cell_type": "markdown",
      "source": [],
      "metadata": {
        "id": "5kx892EBji1R"
      },
      "id": "5kx892EBji1R"
    },
    {
      "cell_type": "code",
      "source": [
        "from google.colab import drive\n",
        "drive.mount('/content/drive')"
      ],
      "metadata": {
        "id": "9BgoNhdpk0Iw",
        "outputId": "3e908758-e2f5-4690-ab38-189338afa2da",
        "colab": {
          "base_uri": "https://localhost:8080/",
          "height": 321
        }
      },
      "id": "9BgoNhdpk0Iw",
      "execution_count": 27,
      "outputs": [
        {
          "output_type": "error",
          "ename": "MessageError",
          "evalue": "Error: credential propagation was unsuccessful",
          "traceback": [
            "\u001b[0;31m---------------------------------------------------------------------------\u001b[0m",
            "\u001b[0;31mMessageError\u001b[0m                              Traceback (most recent call last)",
            "\u001b[0;32m/tmp/ipython-input-1408506528.py\u001b[0m in \u001b[0;36m<cell line: 0>\u001b[0;34m()\u001b[0m\n\u001b[1;32m      1\u001b[0m \u001b[0;32mfrom\u001b[0m \u001b[0mgoogle\u001b[0m\u001b[0;34m.\u001b[0m\u001b[0mcolab\u001b[0m \u001b[0;32mimport\u001b[0m \u001b[0mdrive\u001b[0m\u001b[0;34m\u001b[0m\u001b[0;34m\u001b[0m\u001b[0m\n\u001b[0;32m----> 2\u001b[0;31m \u001b[0mdrive\u001b[0m\u001b[0;34m.\u001b[0m\u001b[0mmount\u001b[0m\u001b[0;34m(\u001b[0m\u001b[0;34m'/content/drive'\u001b[0m\u001b[0;34m)\u001b[0m\u001b[0;34m\u001b[0m\u001b[0;34m\u001b[0m\u001b[0m\n\u001b[0m",
            "\u001b[0;32m/usr/local/lib/python3.12/dist-packages/google/colab/drive.py\u001b[0m in \u001b[0;36mmount\u001b[0;34m(mountpoint, force_remount, timeout_ms, readonly)\u001b[0m\n\u001b[1;32m     95\u001b[0m \u001b[0;32mdef\u001b[0m \u001b[0mmount\u001b[0m\u001b[0;34m(\u001b[0m\u001b[0mmountpoint\u001b[0m\u001b[0;34m,\u001b[0m \u001b[0mforce_remount\u001b[0m\u001b[0;34m=\u001b[0m\u001b[0;32mFalse\u001b[0m\u001b[0;34m,\u001b[0m \u001b[0mtimeout_ms\u001b[0m\u001b[0;34m=\u001b[0m\u001b[0;36m120000\u001b[0m\u001b[0;34m,\u001b[0m \u001b[0mreadonly\u001b[0m\u001b[0;34m=\u001b[0m\u001b[0;32mFalse\u001b[0m\u001b[0;34m)\u001b[0m\u001b[0;34m:\u001b[0m\u001b[0;34m\u001b[0m\u001b[0;34m\u001b[0m\u001b[0m\n\u001b[1;32m     96\u001b[0m   \u001b[0;34m\"\"\"Mount your Google Drive at the specified mountpoint path.\"\"\"\u001b[0m\u001b[0;34m\u001b[0m\u001b[0;34m\u001b[0m\u001b[0m\n\u001b[0;32m---> 97\u001b[0;31m   return _mount(\n\u001b[0m\u001b[1;32m     98\u001b[0m       \u001b[0mmountpoint\u001b[0m\u001b[0;34m,\u001b[0m\u001b[0;34m\u001b[0m\u001b[0;34m\u001b[0m\u001b[0m\n\u001b[1;32m     99\u001b[0m       \u001b[0mforce_remount\u001b[0m\u001b[0;34m=\u001b[0m\u001b[0mforce_remount\u001b[0m\u001b[0;34m,\u001b[0m\u001b[0;34m\u001b[0m\u001b[0;34m\u001b[0m\u001b[0m\n",
            "\u001b[0;32m/usr/local/lib/python3.12/dist-packages/google/colab/drive.py\u001b[0m in \u001b[0;36m_mount\u001b[0;34m(mountpoint, force_remount, timeout_ms, ephemeral, readonly)\u001b[0m\n\u001b[1;32m    132\u001b[0m   )\n\u001b[1;32m    133\u001b[0m   \u001b[0;32mif\u001b[0m \u001b[0mephemeral\u001b[0m\u001b[0;34m:\u001b[0m\u001b[0;34m\u001b[0m\u001b[0;34m\u001b[0m\u001b[0m\n\u001b[0;32m--> 134\u001b[0;31m     _message.blocking_request(\n\u001b[0m\u001b[1;32m    135\u001b[0m         \u001b[0;34m'request_auth'\u001b[0m\u001b[0;34m,\u001b[0m\u001b[0;34m\u001b[0m\u001b[0;34m\u001b[0m\u001b[0m\n\u001b[1;32m    136\u001b[0m         \u001b[0mrequest\u001b[0m\u001b[0;34m=\u001b[0m\u001b[0;34m{\u001b[0m\u001b[0;34m'authType'\u001b[0m\u001b[0;34m:\u001b[0m \u001b[0;34m'dfs_ephemeral'\u001b[0m\u001b[0;34m}\u001b[0m\u001b[0;34m,\u001b[0m\u001b[0;34m\u001b[0m\u001b[0;34m\u001b[0m\u001b[0m\n",
            "\u001b[0;32m/usr/local/lib/python3.12/dist-packages/google/colab/_message.py\u001b[0m in \u001b[0;36mblocking_request\u001b[0;34m(request_type, request, timeout_sec, parent)\u001b[0m\n\u001b[1;32m    174\u001b[0m       \u001b[0mrequest_type\u001b[0m\u001b[0;34m,\u001b[0m \u001b[0mrequest\u001b[0m\u001b[0;34m,\u001b[0m \u001b[0mparent\u001b[0m\u001b[0;34m=\u001b[0m\u001b[0mparent\u001b[0m\u001b[0;34m,\u001b[0m \u001b[0mexpect_reply\u001b[0m\u001b[0;34m=\u001b[0m\u001b[0;32mTrue\u001b[0m\u001b[0;34m\u001b[0m\u001b[0;34m\u001b[0m\u001b[0m\n\u001b[1;32m    175\u001b[0m   )\n\u001b[0;32m--> 176\u001b[0;31m   \u001b[0;32mreturn\u001b[0m \u001b[0mread_reply_from_input\u001b[0m\u001b[0;34m(\u001b[0m\u001b[0mrequest_id\u001b[0m\u001b[0;34m,\u001b[0m \u001b[0mtimeout_sec\u001b[0m\u001b[0;34m)\u001b[0m\u001b[0;34m\u001b[0m\u001b[0;34m\u001b[0m\u001b[0m\n\u001b[0m",
            "\u001b[0;32m/usr/local/lib/python3.12/dist-packages/google/colab/_message.py\u001b[0m in \u001b[0;36mread_reply_from_input\u001b[0;34m(message_id, timeout_sec)\u001b[0m\n\u001b[1;32m    101\u001b[0m     ):\n\u001b[1;32m    102\u001b[0m       \u001b[0;32mif\u001b[0m \u001b[0;34m'error'\u001b[0m \u001b[0;32min\u001b[0m \u001b[0mreply\u001b[0m\u001b[0;34m:\u001b[0m\u001b[0;34m\u001b[0m\u001b[0;34m\u001b[0m\u001b[0m\n\u001b[0;32m--> 103\u001b[0;31m         \u001b[0;32mraise\u001b[0m \u001b[0mMessageError\u001b[0m\u001b[0;34m(\u001b[0m\u001b[0mreply\u001b[0m\u001b[0;34m[\u001b[0m\u001b[0;34m'error'\u001b[0m\u001b[0;34m]\u001b[0m\u001b[0;34m)\u001b[0m\u001b[0;34m\u001b[0m\u001b[0;34m\u001b[0m\u001b[0m\n\u001b[0m\u001b[1;32m    104\u001b[0m       \u001b[0;32mreturn\u001b[0m \u001b[0mreply\u001b[0m\u001b[0;34m.\u001b[0m\u001b[0mget\u001b[0m\u001b[0;34m(\u001b[0m\u001b[0;34m'data'\u001b[0m\u001b[0;34m,\u001b[0m \u001b[0;32mNone\u001b[0m\u001b[0;34m)\u001b[0m\u001b[0;34m\u001b[0m\u001b[0;34m\u001b[0m\u001b[0m\n\u001b[1;32m    105\u001b[0m \u001b[0;34m\u001b[0m\u001b[0m\n",
            "\u001b[0;31mMessageError\u001b[0m: Error: credential propagation was unsuccessful"
          ]
        }
      ]
    },
    {
      "cell_type": "code",
      "source": [],
      "metadata": {
        "id": "Yi-Gjgd2k2kE"
      },
      "id": "Yi-Gjgd2k2kE",
      "execution_count": null,
      "outputs": []
    }
  ],
  "metadata": {
    "kernelspec": {
      "display_name": "Python 3",
      "name": "python3"
    },
    "language_info": {
      "name": "python"
    },
    "required_libs": [],
    "colab": {
      "provenance": [],
      "include_colab_link": true
    }
  },
  "nbformat": 4,
  "nbformat_minor": 5
}